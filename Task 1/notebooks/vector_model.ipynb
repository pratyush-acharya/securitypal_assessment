{
 "cells": [
  {
   "cell_type": "code",
   "execution_count": 22,
   "metadata": {},
   "outputs": [],
   "source": [
    "import pandas as pd\n",
    "import uuid\n",
    "import chromadb\n",
    "from chromadb.utils import embedding_functions"
   ]
  },
  {
   "cell_type": "code",
   "execution_count": 11,
   "metadata": {},
   "outputs": [],
   "source": [
    "knowledge_base =pd.read_csv('../data/processed_knowledge_base.csv')"
   ]
  },
  {
   "cell_type": "code",
   "execution_count": 20,
   "metadata": {},
   "outputs": [],
   "source": [
    "chroma_client = chromadb.PersistentClient(path=\"../vectorstore/\")\n",
    "default_ef = embedding_functions.DefaultEmbeddingFunction()"
   ]
  },
  {
   "cell_type": "code",
   "execution_count": 42,
   "metadata": {},
   "outputs": [],
   "source": [
    "knowledge_base_collection = chroma_client.create_collection(name=\"knowledge_base\", embedding_function=default_ef,  metadata={\"hnsw:space\": \"cosine\"})"
   ]
  },
  {
   "cell_type": "code",
   "execution_count": 44,
   "metadata": {},
   "outputs": [],
   "source": [
    "metadata = [{'section_heading':row[1]['section_heading'],\n",
    "             'control_heading':row[1]['control_heading'],\n",
    "             'answer':row[1]['answer'],\n",
    "             'notes':row[1]['notes']} for row in knowledge_base.iterrows()]\n",
    "\n",
    "knowledge_base_collection.add(documents=knowledge_base['question'].to_list(), \n",
    "                              ids= [str(uuid.uuid4()) for i in range(len(knowledge_base['question']))],\n",
    "                              metadatas=metadata)\n",
    "                    "
   ]
  },
  {
   "cell_type": "code",
   "execution_count": 82,
   "metadata": {},
   "outputs": [],
   "source": [
    "# Function to classify questions based on similarity search\n",
    "def classify_question(question, threshold=0.2):\n",
    "    if question is str:\n",
    "        question = [question]\n",
    "    answer = knowledge_base_collection.query(query_texts=question, n_results=1)\n",
    "    if answer['distances'][0][0] < threshold:\n",
    "        return 'answerable'\n",
    "    elif answer['distances'][0][0] < 0.5 and answer['distances'][0][0] > threshold:\n",
    "        return 'ambiguous'\n",
    "    else:\n",
    "        return 'unanswerable'"
   ]
  },
  {
   "cell_type": "code",
   "execution_count": 84,
   "metadata": {},
   "outputs": [
    {
     "data": {
      "text/plain": [
       "'unanswerable'"
      ]
     },
     "execution_count": 84,
     "metadata": {},
     "output_type": "execute_result"
    }
   ],
   "source": [
    "classify_question(question='What is the purpose of the policy?')"
   ]
  }
 ],
 "metadata": {
  "kernelspec": {
   "display_name": "securitypal_task1",
   "language": "python",
   "name": "python3"
  },
  "language_info": {
   "codemirror_mode": {
    "name": "ipython",
    "version": 3
   },
   "file_extension": ".py",
   "mimetype": "text/x-python",
   "name": "python",
   "nbconvert_exporter": "python",
   "pygments_lexer": "ipython3",
   "version": "3.12.3"
  }
 },
 "nbformat": 4,
 "nbformat_minor": 2
}
